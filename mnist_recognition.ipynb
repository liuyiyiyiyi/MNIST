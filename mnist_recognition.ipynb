{
 "cells": [
  {
   "cell_type": "markdown",
   "id": "85875903",
   "metadata": {},
   "source": [
    "### 导入库"
   ]
  },
  {
   "cell_type": "code",
   "execution_count": null,
   "id": "fa8badf1",
   "metadata": {},
   "outputs": [],
   "source": [
    "import torch\n",
    "import torch.nn as nn\n",
    "import torchvision"
   ]
  },
  {
   "cell_type": "markdown",
   "id": "a16b2a4e",
   "metadata": {},
   "source": [
    "### 下载mnist手写数字数据集"
   ]
  },
  {
   "cell_type": "code",
   "execution_count": null,
   "id": "e86a4940",
   "metadata": {},
   "outputs": [],
   "source": [
    "train_data = torchvision.datasets.MNIST(\n",
    "    root='./data/',  # 保存或提取的位置\n",
    "    train=True,  # true说明是用于训练的数据，false说明是用于测试的数据\n",
    "    transform=torchvision.transforms.ToTensor(), \n",
    "    download=True,  # 已经下载了就不需要下载了\n",
    ")\n",
    "\n",
    "test_data = torchvision.datasets.MNIST(\n",
    "    root='./data/',\n",
    "    train=False  # 表明是测试集\n",
    ")"
   ]
  },
  {
   "cell_type": "markdown",
   "id": "952a935b",
   "metadata": {},
   "source": [
    "###  数据加载"
   ]
  },
  {
   "cell_type": "code",
   "execution_count": null,
   "id": "d43b2995",
   "metadata": {},
   "outputs": [],
   "source": [
    "# 训练数据\n",
    "train_loader = torch.utils.data.DataLoader(\n",
    "    dataset=train_data,\n",
    "    batch_size=50,\n",
    "    shuffle=True  # 是否打乱数据，一般都打乱\n",
    ")\n",
    "\n",
    "# 测试数据，为节约时间，测试时只测试前2000个\n",
    "test_x = torch.unsqueeze(test_data.data, dim=1).type(torch.FloatTensor)[:2000] / 255\n",
    "test_y = test_data.test_labels[:2000]"
   ]
  },
  {
   "cell_type": "markdown",
   "id": "b2bbc345",
   "metadata": {},
   "source": [
    "### 网络结构定义"
   ]
  },
  {
   "cell_type": "code",
   "execution_count": null,
   "id": "c4403d11",
   "metadata": {},
   "outputs": [],
   "source": [
    "class CNN(nn.Module):  # 我们建立的CNN继承nn.Module这个模块\n",
    "    def __init__(self):\n",
    "        super(CNN, self).__init__()\n",
    "        # 建立第一个卷积(Conv2d)-> 激励函数(ReLU)->池化(MaxPooling)\n",
    "        self.conv1 = nn.Sequential(\n",
    "            # 第一个卷积con2d\n",
    "            nn.Conv2d(  # 输入图像大小(1,28,28)\n",
    "                in_channels=1,  # 输入图片的高度，因为minist数据集是灰度图像只有一个通道\n",
    "                out_channels=16,  # n_filters 卷积核的高度\n",
    "                kernel_size=5,  # filter size 卷积核的大小 也就是长x宽=5x5\n",
    "                stride=1,  # 步长\n",
    "                padding=2,  # 想要con2d输出的图片长宽不变，就进行补零操作 padding = (kernel_size-1)/2\n",
    "            ),  # 输出图像大小(16,28,28)\n",
    "            # 激活函数\n",
    "            nn.ReLU(),\n",
    "            # 池化，下采样\n",
    "            nn.MaxPool2d(kernel_size=2),  # 在2x2空间下采样\n",
    "            # 输出图像大小(16,14,14)\n",
    "        )\n",
    "        # 建立第二个卷积(Conv2d)-> 激励函数(ReLU)->池化(MaxPooling)\n",
    "        self.conv2 = nn.Sequential(\n",
    "            # 输入图像大小(16,14,14)\n",
    "            nn.Conv2d(  # 也可以直接简化写成nn.Conv2d(16,32,5,1,2)\n",
    "                in_channels=16,\n",
    "                out_channels=32,\n",
    "                kernel_size=5,\n",
    "                stride=1,\n",
    "                padding=2\n",
    "            ),\n",
    "            # 输出图像大小 (32,14,14)\n",
    "            nn.ReLU(),\n",
    "            nn.MaxPool2d(2),\n",
    "            # 输出图像大小(32,7,7)\n",
    "        )\n",
    "        # 建立全卷积连接层\n",
    "        self.out = nn.Linear(32 * 7 * 7, 10)  # 输出是10个类\n",
    "\n",
    "    # 下面定义x的传播路线\n",
    "    def forward(self, x):\n",
    "        x = self.conv1(x)  # x先通过conv1\n",
    "        x = self.conv2(x)  # 再通过conv2\n",
    "        # 把每一个批次的每一个输入都拉成一个维度，即(batch_size,32*7*7)\n",
    "        # 因为pytorch里特征的形式是[bs,channel,h,w]，所以x.size(0)就是batchsize\n",
    "        x = x.view(x.size(0), -1)  # view就是把x弄成batchsize行个tensor\n",
    "        output = self.out(x)\n",
    "        return output"
   ]
  },
  {
   "cell_type": "markdown",
   "id": "eecf5593",
   "metadata": {},
   "source": [
    "### 训练"
   ]
  },
  {
   "cell_type": "code",
   "execution_count": null,
   "id": "b1df9ecf",
   "metadata": {},
   "outputs": [],
   "source": [
    "cnn = CNN()\n",
    "print(cnn)\n",
    "\n",
    "# 超参数\n",
    "EPOCH = 5  # 训练次数\n",
    "LR = 0.001  # 学习率\n",
    "optimizer = torch.optim.Adam(cnn.parameters(), lr=LR) # 优化器选择Adam\n",
    "loss_func = nn.CrossEntropyLoss()  # 损失函数\n",
    "\n",
    "# 开始训练\n",
    "for epoch in range(EPOCH):\n",
    "    for step, (b_x, b_y) in enumerate(train_loader):  # 分配batch data\n",
    "        output = cnn(b_x)  # 先将数据放到cnn中计算output\n",
    "        loss = loss_func(output, b_y)  # 输出和真实标签的loss\n",
    "        optimizer.zero_grad()  # 清除之前学到的梯度的参数\n",
    "        loss.backward()  # 反向传播，计算梯度\n",
    "        optimizer.step()  # 应用梯度\n",
    "\n",
    "        if step % 400 == 0:\n",
    "            test_output = cnn(test_x)\n",
    "            pred_y = torch.max(test_output, 1)[1].data.numpy()\n",
    "            accuracy = float((pred_y == test_y.data.numpy()).astype(int).sum()) / float(test_y.size(0))\n",
    "            print('Epoch: ', epoch, '| step: ', step, '| train loss: %.4f' % loss.data.numpy(), '| test accuracy: %.2f' % accuracy)\n",
    "\n",
    "torch.save(cnn.state_dict(), './weights/cnn.pth')#保存模型"
   ]
  },
  {
   "cell_type": "markdown",
   "id": "240ce273",
   "metadata": {},
   "source": [
    "### 测试"
   ]
  },
  {
   "cell_type": "code",
   "execution_count": null,
   "id": "40adae90",
   "metadata": {},
   "outputs": [],
   "source": [
    "# 加载模型\n",
    "cnn.load_state_dict(torch.load('./weights/cnn.pth'))\n",
    "cnn.eval()\n",
    "inputs = test_x[:32]  # 测试32个数据\n",
    "test_output = cnn(inputs)\n",
    "pred_y = torch.max(test_output, 1)[1].data.numpy()\n",
    "print(pred_y, 'prediction number') \n",
    "print(test_y[:32].numpy(), 'real number')"
   ]
  }
 ],
 "metadata": {
  "kernelspec": {
   "display_name": "conda_pytorch_p38",
   "language": "python",
   "name": "conda_pytorch_p38"
  },
  "language_info": {
   "codemirror_mode": {
    "name": "ipython",
    "version": 3
   },
   "file_extension": ".py",
   "mimetype": "text/x-python",
   "name": "python",
   "nbconvert_exporter": "python",
   "pygments_lexer": "ipython3",
   "version": "3.8.12"
  }
 },
 "nbformat": 4,
 "nbformat_minor": 5
}
